{
 "cells": [
  {
   "cell_type": "markdown",
   "metadata": {},
   "source": [
    "# Ex 1) Are Stocks Prices a Random Walk?\n",
    "---\n",
    "## Augmented Dickey-fuller Test\n",
    "---\n",
    "Data source: https://www.nasdaq.com/market-activity/stocks/amzn/historical"
   ]
  },
  {
   "cell_type": "markdown",
   "metadata": {},
   "source": [
    "Most stock prices follow a random walk (perhaps with a drift). You will look at a time series of Amazon stock prices, pre-loaded in the DataFrame AMZN, and run the 'Augmented Dickey-Fuller Test' from the statsmodels library to show that it does indeed follow a random walk.\n",
    "\n",
    "---\n",
    "With the ADF test, the \"null hypothesis\" (the hypothesis that we either reject or fail to reject) is that the series follows a random walk. Therefore, a low p-value (say less than 5%) means we can reject the null hypothesis that the series is a random walk."
   ]
  },
  {
   "cell_type": "code",
   "execution_count": 1,
   "metadata": {},
   "outputs": [],
   "source": [
    "import pandas as pd\n",
    "from statsmodels.tsa.stattools import adfuller"
   ]
  },
  {
   "cell_type": "code",
   "execution_count": 2,
   "metadata": {},
   "outputs": [],
   "source": [
    "AMZN = pd.read_csv('AMZN.csv')\n",
    "AMZN.rename({AMZN.columns[1]:\"Adj Close\"}, axis=1, inplace=True)"
   ]
  },
  {
   "cell_type": "code",
   "execution_count": 3,
   "metadata": {},
   "outputs": [
    {
     "data": {
      "text/html": [
       "<div>\n",
       "<style scoped>\n",
       "    .dataframe tbody tr th:only-of-type {\n",
       "        vertical-align: middle;\n",
       "    }\n",
       "\n",
       "    .dataframe tbody tr th {\n",
       "        vertical-align: top;\n",
       "    }\n",
       "\n",
       "    .dataframe thead th {\n",
       "        text-align: right;\n",
       "    }\n",
       "</style>\n",
       "<table border=\"1\" class=\"dataframe\">\n",
       "  <thead>\n",
       "    <tr style=\"text-align: right;\">\n",
       "      <th></th>\n",
       "      <th>Date</th>\n",
       "      <th>Adj Close</th>\n",
       "      <th>Volume</th>\n",
       "      <th>Open</th>\n",
       "      <th>High</th>\n",
       "      <th>Low</th>\n",
       "    </tr>\n",
       "  </thead>\n",
       "  <tbody>\n",
       "    <tr>\n",
       "      <th>0</th>\n",
       "      <td>02/21/2020</td>\n",
       "      <td>$2095.97</td>\n",
       "      <td>4650740</td>\n",
       "      <td>$2142.15</td>\n",
       "      <td>$2144.55</td>\n",
       "      <td>$2088</td>\n",
       "    </tr>\n",
       "    <tr>\n",
       "      <th>1</th>\n",
       "      <td>02/20/2020</td>\n",
       "      <td>$2153.1</td>\n",
       "      <td>3131342</td>\n",
       "      <td>$2173.07</td>\n",
       "      <td>$2176.79</td>\n",
       "      <td>$2127.45</td>\n",
       "    </tr>\n",
       "    <tr>\n",
       "      <th>2</th>\n",
       "      <td>02/19/2020</td>\n",
       "      <td>$2170.22</td>\n",
       "      <td>2561165</td>\n",
       "      <td>$2167.8</td>\n",
       "      <td>$2185.1</td>\n",
       "      <td>$2161.12</td>\n",
       "    </tr>\n",
       "    <tr>\n",
       "      <th>3</th>\n",
       "      <td>02/18/2020</td>\n",
       "      <td>$2155.67</td>\n",
       "      <td>2951070</td>\n",
       "      <td>$2125.02</td>\n",
       "      <td>$2166.07</td>\n",
       "      <td>$2124.105</td>\n",
       "    </tr>\n",
       "    <tr>\n",
       "      <th>4</th>\n",
       "      <td>02/14/2020</td>\n",
       "      <td>$2134.87</td>\n",
       "      <td>2606169</td>\n",
       "      <td>$2155.68</td>\n",
       "      <td>$2159.0352</td>\n",
       "      <td>$2125.89</td>\n",
       "    </tr>\n",
       "  </tbody>\n",
       "</table>\n",
       "</div>"
      ],
      "text/plain": [
       "         Date  Adj Close   Volume       Open         High         Low\n",
       "0  02/21/2020   $2095.97  4650740   $2142.15     $2144.55       $2088\n",
       "1  02/20/2020    $2153.1  3131342   $2173.07     $2176.79    $2127.45\n",
       "2  02/19/2020   $2170.22  2561165    $2167.8      $2185.1    $2161.12\n",
       "3  02/18/2020   $2155.67  2951070   $2125.02     $2166.07   $2124.105\n",
       "4  02/14/2020   $2134.87  2606169   $2155.68   $2159.0352    $2125.89"
      ]
     },
     "execution_count": 3,
     "metadata": {},
     "output_type": "execute_result"
    }
   ],
   "source": [
    "AMZN.head()"
   ]
  },
  {
   "cell_type": "code",
   "execution_count": 4,
   "metadata": {},
   "outputs": [
    {
     "data": {
      "text/html": [
       "<div>\n",
       "<style scoped>\n",
       "    .dataframe tbody tr th:only-of-type {\n",
       "        vertical-align: middle;\n",
       "    }\n",
       "\n",
       "    .dataframe tbody tr th {\n",
       "        vertical-align: top;\n",
       "    }\n",
       "\n",
       "    .dataframe thead th {\n",
       "        text-align: right;\n",
       "    }\n",
       "</style>\n",
       "<table border=\"1\" class=\"dataframe\">\n",
       "  <thead>\n",
       "    <tr style=\"text-align: right;\">\n",
       "      <th></th>\n",
       "      <th>Adj Close</th>\n",
       "      <th>Volume</th>\n",
       "      <th>Open</th>\n",
       "      <th>High</th>\n",
       "      <th>Low</th>\n",
       "    </tr>\n",
       "    <tr>\n",
       "      <th>Date</th>\n",
       "      <th></th>\n",
       "      <th></th>\n",
       "      <th></th>\n",
       "      <th></th>\n",
       "      <th></th>\n",
       "    </tr>\n",
       "  </thead>\n",
       "  <tbody>\n",
       "    <tr>\n",
       "      <th>2010-02-22</th>\n",
       "      <td>118.01</td>\n",
       "      <td>6806986</td>\n",
       "      <td>$117.37</td>\n",
       "      <td>$118.97</td>\n",
       "      <td>$116.18</td>\n",
       "    </tr>\n",
       "    <tr>\n",
       "      <th>2010-02-23</th>\n",
       "      <td>117.24</td>\n",
       "      <td>7066220</td>\n",
       "      <td>$118.01</td>\n",
       "      <td>$119.25</td>\n",
       "      <td>$116.51</td>\n",
       "    </tr>\n",
       "    <tr>\n",
       "      <th>2010-02-24</th>\n",
       "      <td>119.72</td>\n",
       "      <td>7387899</td>\n",
       "      <td>$117.96</td>\n",
       "      <td>$119.8</td>\n",
       "      <td>$117.15</td>\n",
       "    </tr>\n",
       "    <tr>\n",
       "      <th>2010-02-25</th>\n",
       "      <td>118.20</td>\n",
       "      <td>9524339</td>\n",
       "      <td>$118.17</td>\n",
       "      <td>$118.34</td>\n",
       "      <td>$115.85</td>\n",
       "    </tr>\n",
       "    <tr>\n",
       "      <th>2010-02-26</th>\n",
       "      <td>118.40</td>\n",
       "      <td>5713949</td>\n",
       "      <td>$117.88</td>\n",
       "      <td>$119.43</td>\n",
       "      <td>$117</td>\n",
       "    </tr>\n",
       "  </tbody>\n",
       "</table>\n",
       "</div>"
      ],
      "text/plain": [
       "            Adj Close   Volume      Open      High       Low\n",
       "Date                                                        \n",
       "2010-02-22     118.01  6806986   $117.37   $118.97   $116.18\n",
       "2010-02-23     117.24  7066220   $118.01   $119.25   $116.51\n",
       "2010-02-24     119.72  7387899   $117.96    $119.8   $117.15\n",
       "2010-02-25     118.20  9524339   $118.17   $118.34   $115.85\n",
       "2010-02-26     118.40  5713949   $117.88   $119.43      $117"
      ]
     },
     "execution_count": 4,
     "metadata": {},
     "output_type": "execute_result"
    }
   ],
   "source": [
    "# Formating datetime, sorting data\n",
    "AMZN['Date'] = pd.to_datetime(AMZN['Date'])\n",
    "# Sort DataFrame values by date\n",
    "AMZN = AMZN.sort_values(by='Date')\n",
    "AMZN.set_index(pd.to_datetime(AMZN.Date), inplace=True)\n",
    "AMZN.drop(['Date'], axis=1, inplace=True)\n",
    "# Convert Adjusted closing price to float\n",
    "AMZN[\"Adj Close\"] = [float(f.replace('$', '')) for f in AMZN[\"Adj Close\"]]\n",
    "AMZN.head()"
   ]
  },
  {
   "cell_type": "code",
   "execution_count": 6,
   "metadata": {},
   "outputs": [
    {
     "name": "stdout",
     "output_type": "stream",
     "text": [
      "(1.2961952561081038, 0.9965875477388998, 26, 2491, {'1%': -3.4329778809556224, '5%': -2.86270098200392, '10%': -2.5673880359934063}, 20955.22400361047)\n"
     ]
    }
   ],
   "source": [
    "# Run the ADF test on the price series and print out the results\n",
    "results = adfuller(AMZN[\"Adj Close\"])\n",
    "print(results)"
   ]
  },
  {
   "cell_type": "code",
   "execution_count": 7,
   "metadata": {},
   "outputs": [
    {
     "name": "stdout",
     "output_type": "stream",
     "text": [
      "The p-value of the test on prices is: 0.9965875477388998\n"
     ]
    }
   ],
   "source": [
    "# Just print out the p-value\n",
    "print('The p-value of the test on prices is: ' + str(results[1]))"
   ]
  },
  {
   "cell_type": "markdown",
   "metadata": {},
   "source": [
    "### AMAZON Stock Prices FOLLOW a random walk !!!"
   ]
  }
 ],
 "metadata": {
  "kernelspec": {
   "display_name": "Python 3",
   "language": "python",
   "name": "python3"
  },
  "language_info": {
   "codemirror_mode": {
    "name": "ipython",
    "version": 3
   },
   "file_extension": ".py",
   "mimetype": "text/x-python",
   "name": "python",
   "nbconvert_exporter": "python",
   "pygments_lexer": "ipython3",
   "version": "3.6.9"
  }
 },
 "nbformat": 4,
 "nbformat_minor": 4
}
